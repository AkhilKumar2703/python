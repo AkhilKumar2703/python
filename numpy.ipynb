{
  "nbformat": 4,
  "nbformat_minor": 0,
  "metadata": {
    "colab": {
      "provenance": [],
      "gpuType": "T4",
      "authorship_tag": "ABX9TyMhqzwx2f8t3k5zTBTzycyi",
      "include_colab_link": true
    },
    "kernelspec": {
      "name": "python3",
      "display_name": "Python 3"
    },
    "language_info": {
      "name": "python"
    },
    "accelerator": "GPU"
  },
  "cells": [
    {
      "cell_type": "markdown",
      "metadata": {
        "id": "view-in-github",
        "colab_type": "text"
      },
      "source": [
        "<a href=\"https://colab.research.google.com/github/AkhilKumar2703/python/blob/main/numpy.ipynb\" target=\"_parent\"><img src=\"https://colab.research.google.com/assets/colab-badge.svg\" alt=\"Open In Colab\"/></a>"
      ]
    },
    {
      "cell_type": "markdown",
      "source": [
        "#**NUMPY**"
      ],
      "metadata": {
        "id": "ULk8RMEUI2U4"
      }
    },
    {
      "cell_type": "code",
      "source": [
        "import numpy as np"
      ],
      "metadata": {
        "id": "UowCmsBqI4Jd"
      },
      "execution_count": null,
      "outputs": []
    },
    {
      "cell_type": "code",
      "source": [
        "a = np.array(list(range(10)))"
      ],
      "metadata": {
        "id": "ctEM8CHDJBrE"
      },
      "execution_count": null,
      "outputs": []
    },
    {
      "cell_type": "code",
      "source": [
        "a"
      ],
      "metadata": {
        "colab": {
          "base_uri": "https://localhost:8080/"
        },
        "id": "hP1n6ECxJY7j",
        "outputId": "50624eef-d0fb-4cae-bb45-10724144f5c2"
      },
      "execution_count": null,
      "outputs": [
        {
          "output_type": "execute_result",
          "data": {
            "text/plain": [
              "array([0, 1, 2, 3, 4, 5, 6, 7, 8, 9])"
            ]
          },
          "metadata": {},
          "execution_count": 5
        }
      ]
    },
    {
      "cell_type": "code",
      "source": [
        "type(a)"
      ],
      "metadata": {
        "colab": {
          "base_uri": "https://localhost:8080/"
        },
        "id": "wf8_7eflJcWn",
        "outputId": "c4be303b-9917-4e4f-fe4c-4e9074433558"
      },
      "execution_count": null,
      "outputs": [
        {
          "output_type": "execute_result",
          "data": {
            "text/plain": [
              "numpy.ndarray"
            ]
          },
          "metadata": {},
          "execution_count": 6
        }
      ]
    },
    {
      "cell_type": "code",
      "source": [
        "b =a+5"
      ],
      "metadata": {
        "id": "7kIGAQafJsgJ"
      },
      "execution_count": null,
      "outputs": []
    },
    {
      "cell_type": "code",
      "source": [
        "b"
      ],
      "metadata": {
        "colab": {
          "base_uri": "https://localhost:8080/"
        },
        "id": "wjXBJnWGOR_t",
        "outputId": "48ea252f-d41a-46e7-aa49-2db4aa87fab8"
      },
      "execution_count": null,
      "outputs": [
        {
          "output_type": "execute_result",
          "data": {
            "text/plain": [
              "array([ 5,  6,  7,  8,  9, 10, 11, 12, 13, 14])"
            ]
          },
          "metadata": {},
          "execution_count": 8
        }
      ]
    },
    {
      "cell_type": "code",
      "source": [
        "a-5"
      ],
      "metadata": {
        "colab": {
          "base_uri": "https://localhost:8080/"
        },
        "id": "s7Lb74hVJuFr",
        "outputId": "3ce1b950-beea-46cc-b438-f2bb0e6a9c6e"
      },
      "execution_count": null,
      "outputs": [
        {
          "output_type": "execute_result",
          "data": {
            "text/plain": [
              "array([-5, -4, -3, -2, -1,  0,  1,  2,  3,  4])"
            ]
          },
          "metadata": {},
          "execution_count": 9
        }
      ]
    },
    {
      "cell_type": "code",
      "source": [
        "a/5"
      ],
      "metadata": {
        "colab": {
          "base_uri": "https://localhost:8080/"
        },
        "id": "_bZw3upfLYvo",
        "outputId": "f9422910-b0f0-4023-c22e-eed7f4a92ff6"
      },
      "execution_count": null,
      "outputs": [
        {
          "output_type": "execute_result",
          "data": {
            "text/plain": [
              "array([0. , 0.2, 0.4, 0.6, 0.8, 1. , 1.2, 1.4, 1.6, 1.8])"
            ]
          },
          "metadata": {},
          "execution_count": 10
        }
      ]
    },
    {
      "cell_type": "code",
      "source": [
        "a*5"
      ],
      "metadata": {
        "colab": {
          "base_uri": "https://localhost:8080/"
        },
        "id": "SoYuVLcpLa_B",
        "outputId": "4969e670-5076-4641-d600-f430dd7eb396"
      },
      "execution_count": null,
      "outputs": [
        {
          "output_type": "execute_result",
          "data": {
            "text/plain": [
              "array([ 0,  5, 10, 15, 20, 25, 30, 35, 40, 45])"
            ]
          },
          "metadata": {},
          "execution_count": 11
        }
      ]
    },
    {
      "cell_type": "code",
      "source": [
        "a.shape  #showing it contains 10 elements"
      ],
      "metadata": {
        "colab": {
          "base_uri": "https://localhost:8080/"
        },
        "id": "L_ZOFpcaL248",
        "outputId": "7713b9fd-3527-411f-b40c-c475f86fe005"
      },
      "execution_count": null,
      "outputs": [
        {
          "output_type": "execute_result",
          "data": {
            "text/plain": [
              "(10,)"
            ]
          },
          "metadata": {},
          "execution_count": 12
        }
      ]
    },
    {
      "cell_type": "code",
      "source": [
        "a = a.reshape(-1,1)\n",
        "a.shape"
      ],
      "metadata": {
        "id": "Yq1F8EGFluPq"
      },
      "execution_count": null,
      "outputs": []
    },
    {
      "cell_type": "markdown",
      "source": [
        "##array operations"
      ],
      "metadata": {
        "id": "WoRT6VQqNoPJ"
      }
    },
    {
      "cell_type": "code",
      "source": [
        "print(a)\n",
        "print(b)\n",
        "a+b"
      ],
      "metadata": {
        "colab": {
          "base_uri": "https://localhost:8080/"
        },
        "id": "iRyHz9ktNr60",
        "outputId": "b29ce16d-3e42-48e2-b3e5-9636cfd6453d"
      },
      "execution_count": null,
      "outputs": [
        {
          "output_type": "stream",
          "name": "stdout",
          "text": [
            "[[0]\n",
            " [1]\n",
            " [2]\n",
            " [3]\n",
            " [4]\n",
            " [5]\n",
            " [6]\n",
            " [7]\n",
            " [8]\n",
            " [9]]\n",
            "[ 5  6  7  8  9 10 11 12 13 14]\n"
          ]
        },
        {
          "output_type": "execute_result",
          "data": {
            "text/plain": [
              "array([[ 5,  6,  7,  8,  9, 10, 11, 12, 13, 14],\n",
              "       [ 6,  7,  8,  9, 10, 11, 12, 13, 14, 15],\n",
              "       [ 7,  8,  9, 10, 11, 12, 13, 14, 15, 16],\n",
              "       [ 8,  9, 10, 11, 12, 13, 14, 15, 16, 17],\n",
              "       [ 9, 10, 11, 12, 13, 14, 15, 16, 17, 18],\n",
              "       [10, 11, 12, 13, 14, 15, 16, 17, 18, 19],\n",
              "       [11, 12, 13, 14, 15, 16, 17, 18, 19, 20],\n",
              "       [12, 13, 14, 15, 16, 17, 18, 19, 20, 21],\n",
              "       [13, 14, 15, 16, 17, 18, 19, 20, 21, 22],\n",
              "       [14, 15, 16, 17, 18, 19, 20, 21, 22, 23]])"
            ]
          },
          "metadata": {},
          "execution_count": 18
        }
      ]
    },
    {
      "cell_type": "code",
      "source": [
        "a-b"
      ],
      "metadata": {
        "id": "rZJwsQJcPDih",
        "outputId": "5e979504-8737-43fb-ef02-94d886c39e37",
        "colab": {
          "base_uri": "https://localhost:8080/"
        }
      },
      "execution_count": null,
      "outputs": [
        {
          "output_type": "execute_result",
          "data": {
            "text/plain": [
              "array([[ -5,  -6,  -7,  -8,  -9, -10, -11, -12, -13, -14],\n",
              "       [ -4,  -5,  -6,  -7,  -8,  -9, -10, -11, -12, -13],\n",
              "       [ -3,  -4,  -5,  -6,  -7,  -8,  -9, -10, -11, -12],\n",
              "       [ -2,  -3,  -4,  -5,  -6,  -7,  -8,  -9, -10, -11],\n",
              "       [ -1,  -2,  -3,  -4,  -5,  -6,  -7,  -8,  -9, -10],\n",
              "       [  0,  -1,  -2,  -3,  -4,  -5,  -6,  -7,  -8,  -9],\n",
              "       [  1,   0,  -1,  -2,  -3,  -4,  -5,  -6,  -7,  -8],\n",
              "       [  2,   1,   0,  -1,  -2,  -3,  -4,  -5,  -6,  -7],\n",
              "       [  3,   2,   1,   0,  -1,  -2,  -3,  -4,  -5,  -6],\n",
              "       [  4,   3,   2,   1,   0,  -1,  -2,  -3,  -4,  -5]])"
            ]
          },
          "metadata": {},
          "execution_count": 19
        }
      ]
    },
    {
      "cell_type": "code",
      "source": [
        "a*b"
      ],
      "metadata": {
        "id": "z6qMtx_QPEus",
        "outputId": "e6906d11-3ea7-44c9-ef5d-29feb50e5ed4",
        "colab": {
          "base_uri": "https://localhost:8080/"
        }
      },
      "execution_count": null,
      "outputs": [
        {
          "output_type": "execute_result",
          "data": {
            "text/plain": [
              "array([[  0,   0,   0,   0,   0,   0,   0,   0,   0,   0],\n",
              "       [  5,   6,   7,   8,   9,  10,  11,  12,  13,  14],\n",
              "       [ 10,  12,  14,  16,  18,  20,  22,  24,  26,  28],\n",
              "       [ 15,  18,  21,  24,  27,  30,  33,  36,  39,  42],\n",
              "       [ 20,  24,  28,  32,  36,  40,  44,  48,  52,  56],\n",
              "       [ 25,  30,  35,  40,  45,  50,  55,  60,  65,  70],\n",
              "       [ 30,  36,  42,  48,  54,  60,  66,  72,  78,  84],\n",
              "       [ 35,  42,  49,  56,  63,  70,  77,  84,  91,  98],\n",
              "       [ 40,  48,  56,  64,  72,  80,  88,  96, 104, 112],\n",
              "       [ 45,  54,  63,  72,  81,  90,  99, 108, 117, 126]])"
            ]
          },
          "metadata": {},
          "execution_count": 20
        }
      ]
    },
    {
      "cell_type": "code",
      "source": [
        "a/b"
      ],
      "metadata": {
        "id": "yk9DMWVFPF3X",
        "outputId": "1958bf01-5452-4360-a588-a8760c807d20",
        "colab": {
          "base_uri": "https://localhost:8080/"
        }
      },
      "execution_count": null,
      "outputs": [
        {
          "output_type": "execute_result",
          "data": {
            "text/plain": [
              "array([[0.        , 0.        , 0.        , 0.        , 0.        ,\n",
              "        0.        , 0.        , 0.        , 0.        , 0.        ],\n",
              "       [0.2       , 0.16666667, 0.14285714, 0.125     , 0.11111111,\n",
              "        0.1       , 0.09090909, 0.08333333, 0.07692308, 0.07142857],\n",
              "       [0.4       , 0.33333333, 0.28571429, 0.25      , 0.22222222,\n",
              "        0.2       , 0.18181818, 0.16666667, 0.15384615, 0.14285714],\n",
              "       [0.6       , 0.5       , 0.42857143, 0.375     , 0.33333333,\n",
              "        0.3       , 0.27272727, 0.25      , 0.23076923, 0.21428571],\n",
              "       [0.8       , 0.66666667, 0.57142857, 0.5       , 0.44444444,\n",
              "        0.4       , 0.36363636, 0.33333333, 0.30769231, 0.28571429],\n",
              "       [1.        , 0.83333333, 0.71428571, 0.625     , 0.55555556,\n",
              "        0.5       , 0.45454545, 0.41666667, 0.38461538, 0.35714286],\n",
              "       [1.2       , 1.        , 0.85714286, 0.75      , 0.66666667,\n",
              "        0.6       , 0.54545455, 0.5       , 0.46153846, 0.42857143],\n",
              "       [1.4       , 1.16666667, 1.        , 0.875     , 0.77777778,\n",
              "        0.7       , 0.63636364, 0.58333333, 0.53846154, 0.5       ],\n",
              "       [1.6       , 1.33333333, 1.14285714, 1.        , 0.88888889,\n",
              "        0.8       , 0.72727273, 0.66666667, 0.61538462, 0.57142857],\n",
              "       [1.8       , 1.5       , 1.28571429, 1.125     , 1.        ,\n",
              "        0.9       , 0.81818182, 0.75      , 0.69230769, 0.64285714]])"
            ]
          },
          "metadata": {},
          "execution_count": 21
        }
      ]
    },
    {
      "cell_type": "code",
      "source": [
        "d = np.array([[1,2,3],[4,5,6]])\n",
        "d"
      ],
      "metadata": {
        "colab": {
          "base_uri": "https://localhost:8080/"
        },
        "id": "O5gXsgJWpfRB",
        "outputId": "25529f6e-a48d-4091-d1bb-eee5bb135ecb"
      },
      "execution_count": null,
      "outputs": [
        {
          "output_type": "execute_result",
          "data": {
            "text/plain": [
              "array([[1, 2, 3],\n",
              "       [4, 5, 6]])"
            ]
          },
          "metadata": {},
          "execution_count": 27
        }
      ]
    }
  ]
}